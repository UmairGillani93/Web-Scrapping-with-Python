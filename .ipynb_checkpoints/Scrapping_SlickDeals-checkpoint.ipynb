{
 "cells": [
  {
   "cell_type": "code",
   "execution_count": 1,
   "metadata": {},
   "outputs": [],
   "source": [
    "import requests \n",
    "from bs4 import BeautifulSoup"
   ]
  },
  {
   "cell_type": "code",
   "execution_count": 2,
   "metadata": {},
   "outputs": [],
   "source": [
    "url = \"https://slickdeals.net/coupons/amazon/?src=rd_cl_fs\""
   ]
  },
  {
   "cell_type": "code",
   "execution_count": 27,
   "metadata": {},
   "outputs": [
    {
     "name": "stdout",
     "output_type": "stream",
     "text": [
      "Total number of deals:  53\n"
     ]
    },
    {
     "data": {
      "text/plain": [
       "['$10 Off Your Prime Now Order',\n",
       " 'Up to 50% Off Amazon Coupon Codes and Promo for November',\n",
       " 'Get $5 Amazon Credit When You Open Amazon Assistant Once Per 5 Days',\n",
       " 'Amazon Fresh Now Free With Amazon Prime',\n",
       " 'Extra 20% Off Amazon Warehouse Deals',\n",
       " 'Free Shipping (No Minimum) For The Holidays',\n",
       " 'Buy 2 Get 1 Free on Select Movies, Music, Video Games, Toys & More',\n",
       " '$15 Amazon Credit with Purchase of $50 Amazon GC',\n",
       " '5% Off or More on Select Halloween Candy',\n",
       " '50% Off Amazon Fire TV Stick Now Only $25',\n",
       " 'Free 1-Day Prime Shipping on Select Items',\n",
       " \"3' Anker Powerline II MFi Certified Lightning Cable (White) $7\",\n",
       " '$50 Off Anker Nebula Prizm Home Projector Now Only $37.99',\n",
       " '$15 Off Household Supplies $50+',\n",
       " \"$20 Off Customers' First Amazon Prime Now Order of $50+\",\n",
       " '$5 Amazon Credit with Purchase of $50 Amazon GC',\n",
       " '$10 Off Your First Prime Pantry Order of $40+',\n",
       " '$20 Off Echo Dot When You Buy 2+',\n",
       " 'Fire TV Stick with Alexa Voice Remote+ 2 months HBO for $39.99',\n",
       " 'Amazon Pantry: Buy 5, Save $5 - Buy 10, Save $10 - Buy 15, Save $15',\n",
       " '$30 Off $60+ for American Express Membership Rewards Cardholders',\n",
       " 'Free 30-Day Amazon Prime Trial',\n",
       " '40% Off First Trial Bag of Wag Pet Food',\n",
       " 'Free 3-Month Amazon Music Unlimited Trial for New Subscribers',\n",
       " '50% Off Amazon Prime for Customers with an EBT or Medicaid Card',\n",
       " '$10 Off First Whole Foods Purchase',\n",
       " '$14 Off Apple AirPods with Charging Case (Latest Model) Now Only $144',\n",
       " 'Smart Plug or Bulb Only $10',\n",
       " '$8 Off 4-Pack Teckin 16 Amp WiFi Smart Plugs Now Only $31.10',\n",
       " '$10 Off First AmazonFresh Order $35+',\n",
       " '$10 Off Prime Pantry Orders $50+',\n",
       " '50% Off Roav VIVA by Anker Alexa-Enabled 2-Port USB Car Charger $25',\n",
       " '30% Off Pantry Clearance Items',\n",
       " '$30 Off Your First Order with Amazon Fresh',\n",
       " '50% Off BESTEK Universal Travel Adapter Now Only $20',\n",
       " '$20 Off LANGRIA Memory Foam Contour Adjustable Bed Pillow Now $9.89',\n",
       " '60% Off Brother P-Touch PT-M95 Label Maker Only $20.52',\n",
       " 'Free Shipping During the Holidays - No Minimum',\n",
       " 'Up To 40% Off TurboTax',\n",
       " 'Up to $35 Off New 4K Fire TV Device + Free Gift Card with Trade-in',\n",
       " '53% Off 3-Months Audible Gold Digital Membership $6.95/Month',\n",
       " '$10 Off Your First Prime Now Order for First-Time Customers',\n",
       " '$5 Off First Prime Pantry Order $40+ with 30 Day Free Trial',\n",
       " '$25 Off Your First Amazon Fresh Order $100+',\n",
       " 'Free $10 Amazon Credit with Select Gift Card Orders $50+',\n",
       " '50% Off 2 in 1 Kids Soccer Goal Now $13.74 + Free Prime Shipping',\n",
       " 'Free Shipping on Select Orders Sold By Amazon $25+',\n",
       " '$20 Off Amazon Fire TV 4K Stick w/Alexa Voice Remote',\n",
       " '50% Off HQBKING Dash Cam Now $44.99',\n",
       " '$50 Off Insignia 24-inch 720p HD Smart LED TV- Fire TV Edition',\n",
       " 'Introducing the New Fire TV Devices',\n",
       " '20% Off When Using 1 Membership Rewards Point',\n",
       " 'Extra 5% Off Select Fishing Gear']"
      ]
     },
     "execution_count": 27,
     "metadata": {},
     "output_type": "execute_result"
    }
   ],
   "source": [
    "page = requests.get(url)\n",
    "\n",
    "soup = BeautifulSoup(page.text, \"html.parser\")\n",
    "\n",
    "# print(soup.prettify())\n",
    "# print(soup.title)\n",
    "title = soup.title\n",
    "# print(soup.find_all(\"div\", {\"class\": \"item showDeals code\"}))\n",
    "# print(\"Page Title: \", title.text)\n",
    "\n",
    "deals = soup.find_all(\"span\", {\"class\": \"cpbtn\"})\n",
    "    \n",
    "# abs the list of all the deals available\n",
    "deals_list = []\n",
    "for deal in deals:\n",
    "    deals_list.append(deal.text.strip())\n",
    "print(\"Total number of deals: \", len(deals_list))\n",
    "deals_list"
   ]
  },
  {
   "cell_type": "code",
   "execution_count": 28,
   "metadata": {},
   "outputs": [
    {
     "name": "stdout",
     "output_type": "stream",
     "text": [
      "53\n",
      "['https://slickdeals.net/?cno=1979137&sdtrk=rd_cl_fs&prop=sp-1', 'https://slickdeals.net/?cno=2788447&sdtrk=rd_cl_fs&prop=sp-2', 'https://slickdeals.net/?cno=2934802&sdtrk=rd_cl_fs&prop=sp-3', 'https://slickdeals.net/?cno=2912851&sdtrk=rd_cl_fs&prop=sp-4', 'https://slickdeals.net/?cno=2871622&sdtrk=rd_cl_fs&prop=sp-5', 'https://slickdeals.net/?cno=2930476&sdtrk=rd_cl_fs&prop=sp-6', 'https://slickdeals.net/?cno=2916502&sdtrk=rd_cl_fs&prop=sp-7', 'https://slickdeals.net/?cno=2625715&sdtrk=rd_cl_fs&prop=sp-8', 'https://slickdeals.net/?cno=2871601&sdtrk=rd_cl_fs&prop=sp-9', 'https://slickdeals.net/?cno=2833369&sdtrk=rd_cl_fs&prop=sp-10', 'https://slickdeals.net/?cno=2749690&sdtrk=rd_cl_fs&prop=sp-11', 'https://slickdeals.net/?cno=2892124&sdtrk=rd_cl_fs&prop=sp-12', 'https://slickdeals.net/?cno=2840608&sdtrk=rd_cl_fs&prop=sp-13', 'https://slickdeals.net/?cno=2745625&sdtrk=rd_cl_fs&prop=sp-14', 'https://slickdeals.net/?cno=1930057&sdtrk=rd_cl_fs&prop=sp-15', 'https://slickdeals.net/?cno=2529439&sdtrk=rd_cl_fs&prop=sp-16', 'https://slickdeals.net/?cno=1917423&sdtrk=rd_cl_fs&prop=sp-17', 'https://slickdeals.net/?cno=2721685&sdtrk=rd_cl_fs&prop=sp-18', 'https://slickdeals.net/?cno=2716420&sdtrk=rd_cl_fs&prop=sp-19', 'https://slickdeals.net/?cno=2532949&sdtrk=rd_cl_fs&prop=sp-20', 'https://slickdeals.net/?cno=1984186&sdtrk=rd_cl_fs&prop=sp-21', 'https://slickdeals.net/?cno=791633&sdtrk=rd_cl_fs&prop=sp-22', 'https://slickdeals.net/?cno=2379484&sdtrk=rd_cl_fs&prop=sp-23', 'https://slickdeals.net/?cno=2351197&sdtrk=rd_cl_fs&prop=sp-24', 'https://slickdeals.net/?cno=2361718&sdtrk=rd_cl_fs&prop=sp-25', 'https://slickdeals.net/?cno=1557003&sdtrk=rd_cl_fs&prop=sp-26', 'https://slickdeals.net/?cno=2315278&sdtrk=rd_cl_fs&prop=sp-27', 'https://slickdeals.net/?cno=2315842&sdtrk=rd_cl_fs&prop=sp-28', 'https://slickdeals.net/?cno=2342146&sdtrk=rd_cl_fs&prop=sp-29', 'https://slickdeals.net/?cno=2241574&sdtrk=rd_cl_fs&prop=sp-30', 'https://slickdeals.net/?cno=2235076&sdtrk=rd_cl_fs&prop=sp-31', 'https://slickdeals.net/?cno=2241562&sdtrk=rd_cl_fs&prop=sp-32', 'https://slickdeals.net/?cno=2198623&sdtrk=rd_cl_fs&prop=sp-33', 'https://slickdeals.net/?cno=1934278&sdtrk=rd_cl_fs&prop=sp-34', 'https://slickdeals.net/?cno=2160784&sdtrk=rd_cl_fs&prop=sp-35', 'https://slickdeals.net/?cno=2131003&sdtrk=rd_cl_fs&prop=sp-36', 'https://slickdeals.net/?cno=2139949&sdtrk=rd_cl_fs&prop=sp-37', 'https://slickdeals.net/?cno=1946149&sdtrk=rd_cl_fs&prop=sp-38', 'https://slickdeals.net/?cno=1979107&sdtrk=rd_cl_fs&prop=sp-39', 'https://slickdeals.net/?cno=1942183&sdtrk=rd_cl_fs&prop=sp-40', 'https://slickdeals.net/?cno=1942486&sdtrk=rd_cl_fs&prop=sp-41', 'https://slickdeals.net/?cno=1917363&sdtrk=rd_cl_fs&prop=sp-42', 'https://slickdeals.net/?cno=1929271&sdtrk=rd_cl_fs&prop=sp-43', 'https://slickdeals.net/?cno=1466215&sdtrk=rd_cl_fs&prop=sp-44', 'https://slickdeals.net/?cno=1917459&sdtrk=rd_cl_fs&prop=sp-45', 'https://slickdeals.net/?cno=1947847&sdtrk=rd_cl_fs&prop=sp-46', 'https://slickdeals.net/?cno=648387&sdtrk=rd_cl_fs&prop=sp-47', 'https://slickdeals.net/?cno=2338183&sdtrk=rd_cl_fs&prop=sp-48', 'https://slickdeals.net/?cno=1929274&sdtrk=rd_cl_fs&prop=sp-49', 'https://slickdeals.net/?cno=2712799&sdtrk=rd_cl_fs&prop=sp-50', 'https://slickdeals.net/?cno=2712358&sdtrk=rd_cl_fs&prop=sp-51', 'https://slickdeals.net/?cno=2935507&sdtrk=rd_cl_fs&prop=sp-52', 'https://slickdeals.net/?cno=2231407&sdtrk=rd_cl_fs&prop=sp-53']\n"
     ]
    }
   ],
   "source": [
    "# renders on the page, where deal is posted\n",
    "deal_urls = []\n",
    "    \n",
    "coupons = soup.find_all('div', {'class': 'buttonRight'})\n",
    "    \n",
    "for coupon in coupons:\n",
    "    deal_urls.append(coupon.find(\"a\", href = True)[\"href\"])\n",
    "# print(len(deal_urls))\n",
    "deal_urls = deal_urls[:53]\n",
    "print(len(deal_urls))\n",
    "print(deal_urls)"
   ]
  },
  {
   "cell_type": "code",
   "execution_count": 42,
   "metadata": {},
   "outputs": [],
   "source": [
    "import pandas as pd\n",
    "\n",
    "data_dict = {'coupons/offers': deals_list, \"offer_urls\": deal_urls}\n",
    "\n",
    "df = pd.DataFrame(data_dict)"
   ]
  },
  {
   "cell_type": "code",
   "execution_count": 36,
   "metadata": {},
   "outputs": [
    {
     "data": {
      "text/html": [
       "<div>\n",
       "<style scoped>\n",
       "    .dataframe tbody tr th:only-of-type {\n",
       "        vertical-align: middle;\n",
       "    }\n",
       "\n",
       "    .dataframe tbody tr th {\n",
       "        vertical-align: top;\n",
       "    }\n",
       "\n",
       "    .dataframe thead th {\n",
       "        text-align: right;\n",
       "    }\n",
       "</style>\n",
       "<table border=\"1\" class=\"dataframe\">\n",
       "  <thead>\n",
       "    <tr style=\"text-align: right;\">\n",
       "      <th></th>\n",
       "      <th>coupons/offers</th>\n",
       "      <th>offer_urls</th>\n",
       "    </tr>\n",
       "  </thead>\n",
       "  <tbody>\n",
       "    <tr>\n",
       "      <th>0</th>\n",
       "      <td>$10 Off Your Prime Now Order</td>\n",
       "      <td>https://slickdeals.net/?cno=1979137&amp;sdtrk=rd_c...</td>\n",
       "    </tr>\n",
       "    <tr>\n",
       "      <th>1</th>\n",
       "      <td>Up to 50% Off Amazon Coupon Codes and Promo fo...</td>\n",
       "      <td>https://slickdeals.net/?cno=2788447&amp;sdtrk=rd_c...</td>\n",
       "    </tr>\n",
       "    <tr>\n",
       "      <th>2</th>\n",
       "      <td>Get $5 Amazon Credit When You Open Amazon Assi...</td>\n",
       "      <td>https://slickdeals.net/?cno=2934802&amp;sdtrk=rd_c...</td>\n",
       "    </tr>\n",
       "    <tr>\n",
       "      <th>3</th>\n",
       "      <td>Amazon Fresh Now Free With Amazon Prime</td>\n",
       "      <td>https://slickdeals.net/?cno=2912851&amp;sdtrk=rd_c...</td>\n",
       "    </tr>\n",
       "    <tr>\n",
       "      <th>4</th>\n",
       "      <td>Extra 20% Off Amazon Warehouse Deals</td>\n",
       "      <td>https://slickdeals.net/?cno=2871622&amp;sdtrk=rd_c...</td>\n",
       "    </tr>\n",
       "    <tr>\n",
       "      <th>5</th>\n",
       "      <td>Free Shipping (No Minimum) For The Holidays</td>\n",
       "      <td>https://slickdeals.net/?cno=2930476&amp;sdtrk=rd_c...</td>\n",
       "    </tr>\n",
       "    <tr>\n",
       "      <th>6</th>\n",
       "      <td>Buy 2 Get 1 Free on Select Movies, Music, Vide...</td>\n",
       "      <td>https://slickdeals.net/?cno=2916502&amp;sdtrk=rd_c...</td>\n",
       "    </tr>\n",
       "    <tr>\n",
       "      <th>7</th>\n",
       "      <td>$15 Amazon Credit with Purchase of $50 Amazon GC</td>\n",
       "      <td>https://slickdeals.net/?cno=2625715&amp;sdtrk=rd_c...</td>\n",
       "    </tr>\n",
       "    <tr>\n",
       "      <th>8</th>\n",
       "      <td>5% Off or More on Select Halloween Candy</td>\n",
       "      <td>https://slickdeals.net/?cno=2871601&amp;sdtrk=rd_c...</td>\n",
       "    </tr>\n",
       "    <tr>\n",
       "      <th>9</th>\n",
       "      <td>50% Off Amazon Fire TV Stick Now Only $25</td>\n",
       "      <td>https://slickdeals.net/?cno=2833369&amp;sdtrk=rd_c...</td>\n",
       "    </tr>\n",
       "  </tbody>\n",
       "</table>\n",
       "</div>"
      ],
      "text/plain": [
       "                                      coupons/offers  \\\n",
       "0                       $10 Off Your Prime Now Order   \n",
       "1  Up to 50% Off Amazon Coupon Codes and Promo fo...   \n",
       "2  Get $5 Amazon Credit When You Open Amazon Assi...   \n",
       "3            Amazon Fresh Now Free With Amazon Prime   \n",
       "4               Extra 20% Off Amazon Warehouse Deals   \n",
       "5        Free Shipping (No Minimum) For The Holidays   \n",
       "6  Buy 2 Get 1 Free on Select Movies, Music, Vide...   \n",
       "7   $15 Amazon Credit with Purchase of $50 Amazon GC   \n",
       "8           5% Off or More on Select Halloween Candy   \n",
       "9          50% Off Amazon Fire TV Stick Now Only $25   \n",
       "\n",
       "                                          offer_urls  \n",
       "0  https://slickdeals.net/?cno=1979137&sdtrk=rd_c...  \n",
       "1  https://slickdeals.net/?cno=2788447&sdtrk=rd_c...  \n",
       "2  https://slickdeals.net/?cno=2934802&sdtrk=rd_c...  \n",
       "3  https://slickdeals.net/?cno=2912851&sdtrk=rd_c...  \n",
       "4  https://slickdeals.net/?cno=2871622&sdtrk=rd_c...  \n",
       "5  https://slickdeals.net/?cno=2930476&sdtrk=rd_c...  \n",
       "6  https://slickdeals.net/?cno=2916502&sdtrk=rd_c...  \n",
       "7  https://slickdeals.net/?cno=2625715&sdtrk=rd_c...  \n",
       "8  https://slickdeals.net/?cno=2871601&sdtrk=rd_c...  \n",
       "9  https://slickdeals.net/?cno=2833369&sdtrk=rd_c...  "
      ]
     },
     "execution_count": 36,
     "metadata": {},
     "output_type": "execute_result"
    }
   ],
   "source": [
    "df.head(10)"
   ]
  },
  {
   "cell_type": "code",
   "execution_count": 43,
   "metadata": {},
   "outputs": [],
   "source": [
    "df.to_csv(r\"/home/umairshah/Desktop/scraped_data.csv\")"
   ]
  }
 ],
 "metadata": {
  "kernelspec": {
   "display_name": "Python 3",
   "language": "python",
   "name": "python3"
  },
  "language_info": {
   "codemirror_mode": {
    "name": "ipython",
    "version": 3
   },
   "file_extension": ".py",
   "mimetype": "text/x-python",
   "name": "python",
   "nbconvert_exporter": "python",
   "pygments_lexer": "ipython3",
   "version": "3.7.3"
  }
 },
 "nbformat": 4,
 "nbformat_minor": 2
}
