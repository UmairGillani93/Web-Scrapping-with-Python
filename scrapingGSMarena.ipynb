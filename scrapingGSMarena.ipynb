{
 "cells": [
  {
   "cell_type": "code",
   "execution_count": 251,
   "metadata": {},
   "outputs": [],
   "source": [
    "from bs4 import BeautifulSoup\n",
    "from requests import get"
   ]
  },
  {
   "cell_type": "code",
   "execution_count": 252,
   "metadata": {},
   "outputs": [
    {
     "name": "stdout",
     "output_type": "stream",
     "text": [
      "<!doctype html>\r\n",
      "<html xmlns=\"http://www.w3.org/1999/xhtml\" xml:lang=\"en-US\" lang=\"en-US\">\r\n",
      "<head>\r\n",
      "<title>Apple iPhone X - User opinions and reviews</title>\r\n",
      "\r\n",
      "\r\n",
      "\r\n",
      "\r\n",
      "<script data-cfasync=\"false\" type=\"text/javascript\">(function(w, d) { var s = d.createElement('script'); s.src = '//delivery.adrecover.com/16425/adRecover.js?ts=1527752433225'; s.type = 'text/javascript'; s.async = true; (d.getElementsByTagName('head')[0] || d.getElementsByTagName('body')[0]).appendChild(s); })(window, document);</\n"
     ]
    }
   ],
   "source": [
    "url = 'https://www.gsmarena.com/apple_iphone_x-reviews-8858.php'\n",
    "\n",
    "page = get(url)\n",
    "\n",
    "print(page.text[:500])"
   ]
  },
  {
   "cell_type": "code",
   "execution_count": 253,
   "metadata": {},
   "outputs": [
    {
     "name": "stdout",
     "output_type": "stream",
     "text": [
      "<title>Apple iPhone X - User opinions and reviews</title>\n"
     ]
    }
   ],
   "source": [
    "soup = BeautifulSoup(page.text, 'html.parser')\n",
    "\n",
    "print(soup.title)"
   ]
  },
  {
   "cell_type": "code",
   "execution_count": 255,
   "metadata": {},
   "outputs": [],
   "source": [
    "all_opinions = soup.find_all('p', {'class': 'uopin'})"
   ]
  },
  {
   "cell_type": "code",
   "execution_count": 256,
   "metadata": {},
   "outputs": [
    {
     "data": {
      "text/plain": [
       "bs4.element.ResultSet"
      ]
     },
     "execution_count": 256,
     "metadata": {},
     "output_type": "execute_result"
    }
   ],
   "source": [
    "type(all_opinions)"
   ]
  },
  {
   "cell_type": "code",
   "execution_count": 257,
   "metadata": {},
   "outputs": [
    {
     "name": "stdout",
     "output_type": "stream",
     "text": [
      "<class 'bs4.element.ResultSet'>\n",
      "20\n"
     ]
    }
   ],
   "source": [
    "print(type(all_opinions))\n",
    "print(len(all_opinions))"
   ]
  },
  {
   "cell_type": "code",
   "execution_count": 258,
   "metadata": {},
   "outputs": [],
   "source": [
    "first_opinion = all_opinions[0]"
   ]
  },
  {
   "cell_type": "code",
   "execution_count": 259,
   "metadata": {},
   "outputs": [
    {
     "data": {
      "text/plain": [
       "'The first revolutionary iPhone in the X series. It is still holding up great. Can easily take me for the next 2 years at least. '"
      ]
     },
     "execution_count": 259,
     "metadata": {},
     "output_type": "execute_result"
    }
   ],
   "source": [
    "first_opinion.text"
   ]
  },
  {
   "cell_type": "code",
   "execution_count": 260,
   "metadata": {},
   "outputs": [
    {
     "data": {
      "text/plain": [
       "str"
      ]
     },
     "execution_count": 260,
     "metadata": {},
     "output_type": "execute_result"
    }
   ],
   "source": [
    "type(first_opinion.text)"
   ]
  },
  {
   "cell_type": "code",
   "execution_count": 261,
   "metadata": {},
   "outputs": [],
   "source": [
    "second_opinion = all_opinions[1].text.strip()"
   ]
  },
  {
   "cell_type": "code",
   "execution_count": 262,
   "metadata": {},
   "outputs": [
    {
     "data": {
      "text/plain": [
       "'How come no 12.4 beta iOS update for iPhone X??'"
      ]
     },
     "execution_count": 262,
     "metadata": {},
     "output_type": "execute_result"
    }
   ],
   "source": [
    "second_opinion"
   ]
  },
  {
   "cell_type": "code",
   "execution_count": 263,
   "metadata": {},
   "outputs": [],
   "source": [
    "third_opinion = all_opinions[2].text.strip()"
   ]
  },
  {
   "cell_type": "code",
   "execution_count": 264,
   "metadata": {},
   "outputs": [
    {
     "data": {
      "text/plain": [
       "'Azeezabdull, 06 Jun 2019Hi. I got a issue after updating iOS 12.3 example: battery draining faster signal drops phone ... moreSame with mine. Over a period of 1 month mine dropped 3%, I mean the battery health.'"
      ]
     },
     "execution_count": 264,
     "metadata": {},
     "output_type": "execute_result"
    }
   ],
   "source": [
    "third_opinion"
   ]
  },
  {
   "cell_type": "code",
   "execution_count": 265,
   "metadata": {},
   "outputs": [],
   "source": [
    "last_opinion = all_opinions[-1].text.strip()"
   ]
  },
  {
   "cell_type": "code",
   "execution_count": 266,
   "metadata": {},
   "outputs": [
    {
     "name": "stdout",
     "output_type": "stream",
     "text": [
      "[<p class=\"uopin\">The first revolutionary iPhone in the X series. It is still holding up great. Can easily take me for the next 2 years at least. </p>, <p class=\"uopin\">How come no 12.4 beta iOS update for iPhone X?? </p>, <p class=\"uopin\"><a class=\"uinreply\" href=\"#6044901\"><i class=\"head-icon icon-reply\"></i>Azeezabdull, 06 Jun 2019</a><span class=\"uinreply-msg\">Hi. I got a issue after updating iOS 12.3 example: battery draining faster signal drops phone ... <a href=\"#6044901\">more</a></span>Same with mine. Over a period of 1 month mine dropped 3%, I mean the battery health.</p>, <p class=\"uopin\">Is there any issue after 12.3.1??? </p>, <p class=\"uopin\"><a class=\"uinreply\" href=\"#6044901\"><i class=\"head-icon icon-reply\"></i>Azeezabdull, 06 Jun 2019</a><span class=\"uinreply-msg\">Hi. I got a issue after updating iOS 12.3 example: battery draining faster signal drops phone ... <a href=\"#6044901\">more</a></span>Try ios 12.3.1</p>]\n"
     ]
    }
   ],
   "source": [
    "print(all_opinions[:5])"
   ]
  },
  {
   "cell_type": "code",
   "execution_count": 267,
   "metadata": {},
   "outputs": [],
   "source": [
    "comment_dict = {}\n",
    "keys = []\n",
    "values = []\n",
    "\n",
    "for item in all_opinions:\n",
    "    item = item.text.strip()\n",
    "    values.append(item)\n",
    "    \n",
    "for value in all_opinions:\n",
    "    if 'Anonymous' in value:\n",
    "        values.append(value.text[:10].strip())"
   ]
  },
  {
   "cell_type": "code",
   "execution_count": 268,
   "metadata": {},
   "outputs": [
    {
     "data": {
      "text/plain": [
       "['The first revolutionary iPhone in the X series. It is still holding up great. Can easily take me for the next 2 years at least.',\n",
       " 'How come no 12.4 beta iOS update for iPhone X??',\n",
       " 'Azeezabdull, 06 Jun 2019Hi. I got a issue after updating iOS 12.3 example: battery draining faster signal drops phone ... moreSame with mine. Over a period of 1 month mine dropped 3%, I mean the battery health.',\n",
       " 'Is there any issue after 12.3.1???',\n",
       " 'Azeezabdull, 06 Jun 2019Hi. I got a issue after updating iOS 12.3 example: battery draining faster signal drops phone ... moreTry ios 12.3.1',\n",
       " 'Anonymous, 05 Jun 2019hi! got the same issue after updating 12.3. may i know what did you do abiut that? Hi. I got a issue after updating iOS 12.3 example: battery draining faster signal drops phone getting hot is there any solution for this problem.',\n",
       " 'Anonymous, 05 Jun 2019hi! got the same issue after updating 12.3. may i know what did you do abiut that? Hi. After updating 12.3update lots of issue example  battery draining faster  \\r\\nPhone getting hot network problem`s do you have any idea with this',\n",
       " 'Mohsin, 01 Jun 2019guys after updating to latest firmaware 12.3 the wifi signals become weak similarly hotspot  f... morehi! got the same issue after updating 12.3. may i know what did you do abiut that?',\n",
       " \"I think this mobile will be good for business man and I hope if it 'd my mobile phone\",\n",
       " \"I think this mobile will be good for business man and I hope if it 'd my mobile phone\",\n",
       " 'Mohsin, 01 Jun 2019guys after updating to latest firmaware 12.3 the wifi signals become weak similarly hotspot  f... moreI didnÂ\\x92t notice it. IÂ\\x92m using 12.3.1 iOS. IÂ\\x92ll try to observe.',\n",
       " 'guys after updating to latest firmaware 12.3 the wifi signals become weak similarly hotspot  functioning becomes unstable wat can be the reason for it',\n",
       " 'DJ, 24 May 2019I Love This New Huawei..........Good luck Huawei with no fb, android os update, google, windows and YouTube.',\n",
       " 'sk, 24 May 2019Huawei is the best....its taking over the mobile technology ....it has a better camera .....5g... moreI donÂ\\x92t think so..... as of now....... Huawei is no longer a smartphone since itÂ\\x92s no longer supported by android, fb, YouTube, google and windows. ItÂ\\x92 will become an ordinary phone from texting and calling. Except its camera.',\n",
       " 'I Love This New Huawei..........',\n",
       " 'Huawei is the best....its taking over the mobile technology ....it has a better camera .....5g.....bigger screen ....you can store and save stuff on the phone itself without the need of data....i think andriod is way better',\n",
       " 'sumit, 22 May 2019siri and search not working after 12.2 and 12.3 update,it just hangs up when siri and search i... moreCanÂ\\x92t answer your problems. Bring it to apple center and have them check. I donÂ\\x92t encounter any problem with iOS 12.3.',\n",
       " 'siri and search not working after 12.2 and 12.3 update,it just hangs up when siri and search is touched,what is the solution? i have always noticed that apple phones works very well till u update them ,then all kind of problems start coming.',\n",
       " \"Ibra09, 18 May 2019I'm not fanboy of anything, my opinion is that Apple and Samsung have their rights to be more ... moreI respect your opinion. Experience from iPhone 7 (2016) to a s9 (2018) released.\",\n",
       " 'Less, 18 May 2019Funny. Is samsung s9 not overpriced too compare it with Huawei products. YouÂ\\x92ll get more feat... moreI\\'m not fanboy of anything, my opinion is that Apple and Samsung have their rights to be more expensive (not to be overpriced but more expensive) than other brands because they are on market for 13 years (smartphone market) and they are bigger brands than other. Huawei and similar brands are here for 5 or 6 years. You can\\'t be on market for 5 years and expect to be on same \"name\" and \"price\" level as Apple and Samsung. Samsung have the best UI of all Androids (again my opinion) and Apple is only player on iOS side.I love both products but when I hear that Apple have best software support in terms updates this is just funny as I said, only version number is different everything else is 99% the same from iOS 7-12 (only visible change is Control Center). Maybe Samsung is not fastest in terms of updates but almost all features which stock Android get in future versions, those features Samsung already have.']"
      ]
     },
     "execution_count": 268,
     "metadata": {},
     "output_type": "execute_result"
    }
   ],
   "source": [
    "values"
   ]
  },
  {
   "cell_type": "code",
   "execution_count": 269,
   "metadata": {},
   "outputs": [
    {
     "data": {
      "text/plain": [
       "20"
      ]
     },
     "execution_count": 269,
     "metadata": {},
     "output_type": "execute_result"
    }
   ],
   "source": [
    "len(values)"
   ]
  },
  {
   "cell_type": "code",
   "execution_count": 270,
   "metadata": {},
   "outputs": [],
   "source": [
    "for value in values:\n",
    "    value.strip('/')"
   ]
  },
  {
   "cell_type": "code",
   "execution_count": 271,
   "metadata": {},
   "outputs": [
    {
     "data": {
      "text/plain": [
       "'Anonymous, 05 Jun 2019hi! got the same issue after updating 12.3. may i know what did you do abiut that? Hi. After updating 12.3update lots of issue example  battery draining faster  \\r\\nPhone getting hot network problem`s do you have any idea with this'"
      ]
     },
     "execution_count": 271,
     "metadata": {},
     "output_type": "execute_result"
    }
   ],
   "source": [
    "values[6]"
   ]
  },
  {
   "cell_type": "code",
   "execution_count": 188,
   "metadata": {},
   "outputs": [
    {
     "data": {
      "text/plain": [
       "['The first revolutionary iPhone in the X series. It is still holding up great. Can easily take me for the next 2 years at least.',\n",
       " 'How come no 12.4 beta iOS update for iPhone X??',\n",
       " 'Azeezabdull, 06 Jun 2019Hi. I got a issue after updating iOS 12.3 example: battery draining faster signal drops phone ... moreSame with mine. Over a period of 1 month mine dropped 3%, I mean the battery health.',\n",
       " 'Is there any issue after 12.3.1???',\n",
       " 'Azeezabdull, 06 Jun 2019Hi. I got a issue after updating iOS 12.3 example: battery draining faster signal drops phone ... moreTry ios 12.3.1',\n",
       " 'Anonymous, 05 Jun 2019hi! got the same issue after updating 12.3. may i know what did you do abiut that? Hi. I got a issue after updating iOS 12.3 example: battery draining faster signal drops phone getting hot is there any solution for this problem.',\n",
       " 'Anonymous, 05 Jun 2019hi! got the same issue after updating 12.3. may i know what did you do abiut that? Hi. After updating 12.3update lots of issue example  battery draining faster  \\r\\nPhone getting hot network problem`s do you have any idea with this',\n",
       " 'Mohsin, 01 Jun 2019guys after updating to latest firmaware 12.3 the wifi signals become weak similarly hotspot  f... morehi! got the same issue after updating 12.3. may i know what did you do abiut that?',\n",
       " \"I think this mobile will be good for business man and I hope if it 'd my mobile phone\",\n",
       " \"I think this mobile will be good for business man and I hope if it 'd my mobile phone\",\n",
       " 'Mohsin, 01 Jun 2019guys after updating to latest firmaware 12.3 the wifi signals become weak similarly hotspot  f... moreI didnÂ\\x92t notice it. IÂ\\x92m using 12.3.1 iOS. IÂ\\x92ll try to observe.',\n",
       " 'guys after updating to latest firmaware 12.3 the wifi signals become weak similarly hotspot  functioning becomes unstable wat can be the reason for it',\n",
       " 'DJ, 24 May 2019I Love This New Huawei..........Good luck Huawei with no fb, android os update, google, windows and YouTube.',\n",
       " 'sk, 24 May 2019Huawei is the best....its taking over the mobile technology ....it has a better camera .....5g... moreI donÂ\\x92t think so..... as of now....... Huawei is no longer a smartphone since itÂ\\x92s no longer supported by android, fb, YouTube, google and windows. ItÂ\\x92 will become an ordinary phone from texting and calling. Except its camera.',\n",
       " 'I Love This New Huawei..........',\n",
       " 'Huawei is the best....its taking over the mobile technology ....it has a better camera .....5g.....bigger screen ....you can store and save stuff on the phone itself without the need of data....i think andriod is way better',\n",
       " 'sumit, 22 May 2019siri and search not working after 12.2 and 12.3 update,it just hangs up when siri and search i... moreCanÂ\\x92t answer your problems. Bring it to apple center and have them check. I donÂ\\x92t encounter any problem with iOS 12.3.',\n",
       " 'siri and search not working after 12.2 and 12.3 update,it just hangs up when siri and search is touched,what is the solution? i have always noticed that apple phones works very well till u update them ,then all kind of problems start coming.',\n",
       " \"Ibra09, 18 May 2019I'm not fanboy of anything, my opinion is that Apple and Samsung have their rights to be more ... moreI respect your opinion. Experience from iPhone 7 (2016) to a s9 (2018) released.\",\n",
       " 'Less, 18 May 2019Funny. Is samsung s9 not overpriced too compare it with Huawei products. YouÂ\\x92ll get more feat... moreI\\'m not fanboy of anything, my opinion is that Apple and Samsung have their rights to be more expensive (not to be overpriced but more expensive) than other brands because they are on market for 13 years (smartphone market) and they are bigger brands than other. Huawei and similar brands are here for 5 or 6 years. You can\\'t be on market for 5 years and expect to be on same \"name\" and \"price\" level as Apple and Samsung. Samsung have the best UI of all Androids (again my opinion) and Apple is only player on iOS side.I love both products but when I hear that Apple have best software support in terms updates this is just funny as I said, only version number is different everything else is 99% the same from iOS 7-12 (only visible change is Control Center). Maybe Samsung is not fastest in terms of updates but almost all features which stock Android get in future versions, those features Samsung already have.']"
      ]
     },
     "execution_count": 188,
     "metadata": {},
     "output_type": "execute_result"
    }
   ],
   "source": [
    "values"
   ]
  },
  {
   "cell_type": "code",
   "execution_count": 272,
   "metadata": {},
   "outputs": [],
   "source": [
    "names = soup.find_all('li', {'class': 'uname2'})"
   ]
  },
  {
   "cell_type": "code",
   "execution_count": 273,
   "metadata": {},
   "outputs": [],
   "source": [
    "first_name = names[0]"
   ]
  },
  {
   "cell_type": "code",
   "execution_count": 274,
   "metadata": {},
   "outputs": [
    {
     "data": {
      "text/plain": [
       "'Pat Ph'"
      ]
     },
     "execution_count": 274,
     "metadata": {},
     "output_type": "execute_result"
    }
   ],
   "source": [
    "first_name.text.strip()"
   ]
  },
  {
   "cell_type": "code",
   "execution_count": 275,
   "metadata": {},
   "outputs": [
    {
     "data": {
      "text/plain": [
       "'ATP7B'"
      ]
     },
     "execution_count": 275,
     "metadata": {},
     "output_type": "execute_result"
    }
   ],
   "source": [
    "names[1].text.strip()"
   ]
  },
  {
   "cell_type": "code",
   "execution_count": 276,
   "metadata": {},
   "outputs": [
    {
     "name": "stdout",
     "output_type": "stream",
     "text": [
      "['Pat Ph', 'ATP7B', 'kingpin', 'Less', 'Azeez', 'Anonymous', 'Anonymous', 'Anonymous', 'Less', 'Mohsin', 'Less', 'Less', 'DJ', 'sk', 'Less', 'sumit', 'Less']\n"
     ]
    }
   ],
   "source": [
    "for name in names:\n",
    "    name = name.text.strip()\n",
    "    keys.append(name)\n",
    "    \n",
    "print(keys)"
   ]
  },
  {
   "cell_type": "code",
   "execution_count": 277,
   "metadata": {},
   "outputs": [
    {
     "data": {
      "text/plain": [
       "17"
      ]
     },
     "execution_count": 277,
     "metadata": {},
     "output_type": "execute_result"
    }
   ],
   "source": [
    "len(keys)"
   ]
  },
  {
   "cell_type": "code",
   "execution_count": 278,
   "metadata": {},
   "outputs": [],
   "source": [
    "locations = soup.find_all('li', {'class': 'ulocation'})"
   ]
  },
  {
   "cell_type": "code",
   "execution_count": 279,
   "metadata": {},
   "outputs": [],
   "source": [
    "first_location = locations[0]"
   ]
  },
  {
   "cell_type": "code",
   "execution_count": 280,
   "metadata": {},
   "outputs": [
    {
     "data": {
      "text/plain": [
       "<li class=\"ulocation\"><i class=\"head-icon icon-location\"></i><span title=\"Encoded anonymized location\">ITL</span></li>"
      ]
     },
     "execution_count": 280,
     "metadata": {},
     "output_type": "execute_result"
    }
   ],
   "source": [
    "first_location"
   ]
  },
  {
   "cell_type": "code",
   "execution_count": 281,
   "metadata": {},
   "outputs": [],
   "source": [
    "comment_dict = dict(zip(keys,values))"
   ]
  },
  {
   "cell_type": "code",
   "execution_count": 282,
   "metadata": {},
   "outputs": [
    {
     "data": {
      "text/plain": [
       "'Azeezabdull, 06 Jun 2019Hi. I got a issue after updating iOS 12.3 example: battery draining faster signal drops phone ... moreTry ios 12.3.1'"
      ]
     },
     "execution_count": 282,
     "metadata": {},
     "output_type": "execute_result"
    }
   ],
   "source": [
    "comment_dict['Azeez']"
   ]
  },
  {
   "cell_type": "code",
   "execution_count": 283,
   "metadata": {},
   "outputs": [
    {
     "data": {
      "text/plain": [
       "\"I think this mobile will be good for business man and I hope if it 'd my mobile phone\""
      ]
     },
     "execution_count": 283,
     "metadata": {},
     "output_type": "execute_result"
    }
   ],
   "source": [
    "comment_dict['Mohsin']"
   ]
  },
  {
   "cell_type": "code",
   "execution_count": 284,
   "metadata": {},
   "outputs": [],
   "source": [
    "import pandas as pd"
   ]
  },
  {
   "cell_type": "code",
   "execution_count": 286,
   "metadata": {},
   "outputs": [],
   "source": [
    "serialNo = list(range(10))\n",
    "comments_df = pd.DataFrame(data = comment_dict, index = [0])"
   ]
  },
  {
   "cell_type": "code",
   "execution_count": 288,
   "metadata": {},
   "outputs": [],
   "source": [
    "serial_names = ['Pat Ph', 'ATP7B', 'kingpin', 'Less', 'Azeez', 'Anonymous', 'Mohsin', 'DJ', 'sk', 'sumit']"
   ]
  },
  {
   "cell_type": "code",
   "execution_count": 292,
   "metadata": {},
   "outputs": [
    {
     "data": {
      "text/html": [
       "<div>\n",
       "<style scoped>\n",
       "    .dataframe tbody tr th:only-of-type {\n",
       "        vertical-align: middle;\n",
       "    }\n",
       "\n",
       "    .dataframe tbody tr th {\n",
       "        vertical-align: top;\n",
       "    }\n",
       "\n",
       "    .dataframe thead th {\n",
       "        text-align: right;\n",
       "    }\n",
       "</style>\n",
       "<table border=\"1\" class=\"dataframe\">\n",
       "  <thead>\n",
       "    <tr style=\"text-align: right;\">\n",
       "      <th></th>\n",
       "      <th></th>\n",
       "      <th></th>\n",
       "      <th></th>\n",
       "      <th></th>\n",
       "      <th></th>\n",
       "      <th></th>\n",
       "      <th></th>\n",
       "      <th></th>\n",
       "      <th></th>\n",
       "    </tr>\n",
       "    <tr>\n",
       "      <th>Pat Ph</th>\n",
       "      <th>ATP7B</th>\n",
       "      <th>kingpin</th>\n",
       "      <th>Less</th>\n",
       "      <th>Azeez</th>\n",
       "      <th>Anonymous</th>\n",
       "      <th>Mohsin</th>\n",
       "      <th>DJ</th>\n",
       "      <th>sk</th>\n",
       "      <th>sumit</th>\n",
       "    </tr>\n",
       "  </thead>\n",
       "  <tbody>\n",
       "    <tr>\n",
       "      <th>The first revolutionary iPhone in the X series. It is still holding up great. Can easily take me for the next 2 years at least.</th>\n",
       "      <th>How come no 12.4 beta iOS update for iPhone X??</th>\n",
       "      <th>Azeezabdull, 06 Jun 2019Hi. I got a issue after updating iOS 12.3 example: battery draining faster signal drops phone ... moreSame with mine. Over a period of 1 month mine dropped 3%, I mean the battery health.</th>\n",
       "      <th>sumit, 22 May 2019siri and search not working after 12.2 and 12.3 update,it just hangs up when siri and search i... moreCanÂt answer your problems. Bring it to apple center and have them check. I donÂt encounter any problem with iOS 12.3.</th>\n",
       "      <th>Azeezabdull, 06 Jun 2019Hi. I got a issue after updating iOS 12.3 example: battery draining faster signal drops phone ... moreTry ios 12.3.1</th>\n",
       "      <th>Mohsin, 01 Jun 2019guys after updating to latest firmaware 12.3 the wifi signals become weak similarly hotspot  f... morehi! got the same issue after updating 12.3. may i know what did you do abiut that?</th>\n",
       "      <th>I think this mobile will be good for business man and I hope if it 'd my mobile phone</th>\n",
       "      <th>DJ, 24 May 2019I Love This New Huawei..........Good luck Huawei with no fb, android os update, google, windows and YouTube.</th>\n",
       "      <th>sk, 24 May 2019Huawei is the best....its taking over the mobile technology ....it has a better camera .....5g... moreI donÂt think so..... as of now....... Huawei is no longer a smartphone since itÂs no longer supported by android, fb, YouTube, google and windows. ItÂ will become an ordinary phone from texting and calling. Except its camera.</th>\n",
       "      <th>Huawei is the best....its taking over the mobile technology ....it has a better camera .....5g.....bigger screen ....you can store and save stuff on the phone itself without the need of data....i think andriod is way better</th>\n",
       "    </tr>\n",
       "  </tbody>\n",
       "</table>\n",
       "</div>"
      ],
      "text/plain": [
       "Empty DataFrame\n",
       "Columns: []\n",
       "Index: [(The first revolutionary iPhone in the X series. It is still holding up great. Can easily take me for the next 2 years at least., How come no 12.4 beta iOS update for iPhone X??, Azeezabdull, 06 Jun 2019Hi. I got a issue after updating iOS 12.3 example: battery draining faster signal drops phone ... moreSame with mine. Over a period of 1 month mine dropped 3%, I mean the battery health., sumit, 22 May 2019siri and search not working after 12.2 and 12.3 update,it just hangs up when siri and search i... moreCanÂt answer your problems. Bring it to apple center and have them check. I donÂt encounter any problem with iOS 12.3., Azeezabdull, 06 Jun 2019Hi. I got a issue after updating iOS 12.3 example: battery draining faster signal drops phone ... moreTry ios 12.3.1, Mohsin, 01 Jun 2019guys after updating to latest firmaware 12.3 the wifi signals become weak similarly hotspot  f... morehi! got the same issue after updating 12.3. may i know what did you do abiut that?, I think this mobile will be good for business man and I hope if it 'd my mobile phone, DJ, 24 May 2019I Love This New Huawei..........Good luck Huawei with no fb, android os update, google, windows and YouTube., sk, 24 May 2019Huawei is the best....its taking over the mobile technology ....it has a better camera .....5g... moreI donÂt think so..... as of now....... Huawei is no longer a smartphone since itÂs no longer supported by android, fb, YouTube, google and windows. ItÂ will become an ordinary phone from texting and calling. Except its camera., Huawei is the best....its taking over the mobile technology ....it has a better camera .....5g.....bigger screen ....you can store and save stuff on the phone itself without the need of data....i think andriod is way better)]"
      ]
     },
     "execution_count": 292,
     "metadata": {},
     "output_type": "execute_result"
    }
   ],
   "source": [
    "comments_df.set_index(keys = serial_names)"
   ]
  },
  {
   "cell_type": "code",
   "execution_count": null,
   "metadata": {},
   "outputs": [],
   "source": []
  }
 ],
 "metadata": {
  "kernelspec": {
   "display_name": "Python 3",
   "language": "python",
   "name": "python3"
  },
  "language_info": {
   "codemirror_mode": {
    "name": "ipython",
    "version": 3
   },
   "file_extension": ".py",
   "mimetype": "text/x-python",
   "name": "python",
   "nbconvert_exporter": "python",
   "pygments_lexer": "ipython3",
   "version": "3.7.3"
  }
 },
 "nbformat": 4,
 "nbformat_minor": 2
}
