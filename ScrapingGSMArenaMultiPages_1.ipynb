{
 "cells": [
  {
   "cell_type": "code",
   "execution_count": 1,
   "metadata": {},
   "outputs": [],
   "source": [
    "from bs4 import BeautifulSoup\n",
    "from requests import get"
   ]
  },
  {
   "cell_type": "code",
   "execution_count": 2,
   "metadata": {},
   "outputs": [],
   "source": [
    "import csv"
   ]
  },
  {
   "cell_type": "code",
   "execution_count": 146,
   "metadata": {},
   "outputs": [],
   "source": [
    "all_pages = ''\n",
    "for i in range(2,21):\n",
    "    \n",
    "    url = 'https://www.gsmarena.com/huawei_nova_3i-reviews-9632p{}.php'.format(i)\n",
    "    page = get(url)\n",
    "    all_pages += page.text"
   ]
  },
  {
   "cell_type": "code",
   "execution_count": 147,
   "metadata": {},
   "outputs": [],
   "source": [
    "soup = BeautifulSoup(all_pages, 'html.parser')"
   ]
  },
  {
   "cell_type": "code",
   "execution_count": 148,
   "metadata": {},
   "outputs": [
    {
     "data": {
      "text/plain": [
       "[<title>Huawei nova 3i - User opinions and reviews - page 2</title>,\n",
       " <title>Huawei nova 3i - User opinions and reviews - page 3</title>,\n",
       " <title>Huawei nova 3i - User opinions and reviews - page 4</title>,\n",
       " <title>Huawei nova 3i - User opinions and reviews - page 5</title>,\n",
       " <title>Huawei nova 3i - User opinions and reviews - page 6</title>,\n",
       " <title>Huawei nova 3i - User opinions and reviews - page 7</title>,\n",
       " <title>Huawei nova 3i - User opinions and reviews - page 8</title>,\n",
       " <title>Huawei nova 3i - User opinions and reviews - page 9</title>,\n",
       " <title>Huawei nova 3i - User opinions and reviews - page 10</title>,\n",
       " <title>Huawei nova 3i - User opinions and reviews - page 11</title>,\n",
       " <title>Huawei nova 3i - User opinions and reviews - page 12</title>,\n",
       " <title>Huawei nova 3i - User opinions and reviews - page 13</title>,\n",
       " <title>Huawei nova 3i - User opinions and reviews - page 14</title>,\n",
       " <title>Huawei nova 3i - User opinions and reviews - page 15</title>,\n",
       " <title>Huawei nova 3i - User opinions and reviews - page 16</title>,\n",
       " <title>Huawei nova 3i - User opinions and reviews - page 17</title>,\n",
       " <title>Huawei nova 3i - User opinions and reviews - page 18</title>,\n",
       " <title>Huawei nova 3i - User opinions and reviews - page 19</title>,\n",
       " <title>Huawei nova 3i - User opinions and reviews - page 20</title>]"
      ]
     },
     "execution_count": 148,
     "metadata": {},
     "output_type": "execute_result"
    }
   ],
   "source": [
    "soup.find_all(\"title\")"
   ]
  },
  {
   "cell_type": "code",
   "execution_count": 53,
   "metadata": {},
   "outputs": [],
   "source": [
    "reviews = soup.find_all('p', {'class': 'uopin'})"
   ]
  },
  {
   "cell_type": "code",
   "execution_count": 55,
   "metadata": {},
   "outputs": [
    {
     "data": {
      "text/plain": [
       "bs4.element.ResultSet"
      ]
     },
     "execution_count": 55,
     "metadata": {},
     "output_type": "execute_result"
    }
   ],
   "source": [
    "type(reviews)"
   ]
  },
  {
   "cell_type": "code",
   "execution_count": 56,
   "metadata": {},
   "outputs": [
    {
     "data": {
      "text/plain": [
       "65"
      ]
     },
     "execution_count": 56,
     "metadata": {},
     "output_type": "execute_result"
    }
   ],
   "source": [
    "len(reviews)"
   ]
  },
  {
   "cell_type": "code",
   "execution_count": 63,
   "metadata": {},
   "outputs": [],
   "source": [
    "first_review = reviews[0]"
   ]
  },
  {
   "cell_type": "code",
   "execution_count": 67,
   "metadata": {},
   "outputs": [
    {
     "data": {
      "text/plain": [
       "'Anonymous, 11 May 2019Lx2 can upgrade to emui 9 and android pie, Lx2r still have to wait until they release Mine is lx2 but I dont receive any upadate yet.'"
      ]
     },
     "execution_count": 67,
     "metadata": {},
     "output_type": "execute_result"
    }
   ],
   "source": [
    "first_review.text.strip()"
   ]
  },
  {
   "cell_type": "code",
   "execution_count": 150,
   "metadata": {},
   "outputs": [
    {
     "name": "stdout",
     "output_type": "stream",
     "text": [
      "['11 May 2019Lx2 can upgrade to emui 9 and android pie, Lx2r still have to wait until they release Mine is lx2 but I dont receive any upadate yet.', 'Why am I not getting update to pie on my phone, its still in oreo. Im from philippines.', 'Nova user, 11 May 2019Automatically call recording option is not available in my nova 3i phone. Please tell me, why ... moreI think it was not allowed in your country.', 'khenzo, 09 Apr 2019worst phone ever lag and the camera is no good specially in a low light condition,,, after pur... moreNope mine is very smooth. I already try oppo f9 but i dont like it. Huawei is fast in mobile data and wifi. Also very smooth in heavy games', \"shafiullah2500, 29 Mar 2019Assalamu Alaikum. Dear Nova 3i Users. Please Please don't Update to Pie(Android Version 9) Aft... moreNope. I dont have any troubles in my huawei nova 3i i updated mine 1 week ago. So far so good. No lags. The battery last longer. I can charge 0-100% in just 2 hours. You just dont like the phone so better shut up. Dont believe this guys\", 'Automatically call recording option is not available in my nova 3i phone. Please tell me, why this happened for my phone & how can i fix that.', 'HKM, 08 May 2019Any one know the difference between the version nova 3i INE-LX2 and INE-LX2r ? Apparently thes... moreLx2 can upgrade to emui 9 and android pie, Lx2r still have to wait until they release', 'is that support 250QOM', 'Any one know the difference between the version nova 3i INE-LX2 and INE-LX2r ? Apparently these two versions are sold in malaysian market.', 'Mohammed Imran, 05 May 2019Hi.Can anyone tell how ong does it take to download 2GB file size of movies.(At 2.4Ghz Wifi Router)depend on your wifi speed', 'Evan Toh, 02 May 2019Most of the huawei smartphone has a low volume speaker even the flagship. Only a \"clear sound\"... moreNo complaint with my Huawei Y9 2019, speaker loud and clear. Maybe because it is a very big phone... Other wise try the huge Y Max, sound is very good and extra loud, no need for bluetooth speaker.', 'Is a better way to turn on the phone other than pressing the on/off button at the side?', 'Hi.Can anyone tell how ong does it take to download 2GB file size of movies.(At 2.4Ghz Wifi Router)', \"Dk, 23 Apr 2019Has anyone upgraded to pie?If yes, any issues? Yes. There is no problems. It's nice. More fast and smoth Pie better.\", 'OLDphone, 27 Apr 2019just bought the up a few hours earlier...... a little bit disappointed in the sound department... moreMost of the huawei smartphone has a low volume speaker even the flagship. Only a \"clear sound\" if you want to have a loudspeaker you could get something better than this. Safe extra cash to get a better phone', 'nova user, 25 Apr 2019no so far no issues, the update looks amazingShud I upgrade it?', \"30 Apr 2019Hi Pane. What you're talking about is the Huawei Histen which is completely useless. It may tw... more I just want to help you with some suggestion so if you want more volume to install free app- -NRG Player -and you probably will be more satisfied, greetings\", \"pane, 29 Apr 2019I would like to help you with the sound, I do not own this model on Huawei, but I have the H... moreHi Pane. What you're talking about is the Huawei Histen which is completely useless. It may tweak some bass, treble or balance but it does not, in any way, improve the volume. I hope huawei can fix this with a software update.\", 'JamesA, 22 Apr 2019In Australia, there is a nova 3e available, which has the lesser 64GB internal memory..Nova 3e is actually P20 lite', 'Why my phone cannot connect to wifi?', \"I would like to help you with the sound, I do not own this model on Huawei, but I have the Honor 8x with the same characteristics and I would suggest you to try this; 1st, plug in the earphones, then go to the settings and open sounds, then slide down to ''Huawei Sound Effects'', there is a new menu for more sound effects,- auto-3D audio- natural- standard -> Headset type, and Equalizer, i'm shure you will find something that will help you and has lots of fun.\", \"16 Apr 2019am I the only one who experience low speaker volume? the volume is way too low compared to my ... morejust bought the up a few hours earlier...... a little bit disappointed in the sound department... doesn't matter if u use the loudspeaker or headphone... its still low in volume, even st max level.... other than that I got no complaints\", \"April's about to end and I'm still stuck at android oreo/ EMUI 8.2. Hope Huawei rolls out the pie update soon :(\", \"16 Apr 2019am I the only one who experience low speaker volume? the volume is way too low compared to my ... moreYes, I'm also using nova 3i. That is also low volume and quality also loww&#128557;&#128557;&#128557;&\\xad#128557;&#128557;&#128557;\", 'can we connect nova 3i to tv?', 'Dk, 23 Apr 2019Has anyone upgraded to pie?If yes, any issues? no so far no issues, the update looks amazing', 'Effy, 23 Apr 2019Should i buy nova 3i or y9(19) or p30 lite?try Cherry Mobile Flare S2 friend', 'KEN, 04 Apr 2019dropped this phone from 4ft on a tiles > no cracks or dents what so ever > dropped honor... moreMaybe stop dropping your phones :D', 'Has anyone upgraded to pie? If yes, any issues?', 'Should i buy nova 3i or y9(19) or p30 lite?', '27 Mar 2019Is there an available Huawei Nova 3 with only 64GB internal memory in the market as of now?In Australia, there is a nova 3e available, which has the lesser 64GB internal memory..', 'Is safe to upgrade to pie?', \"am I the only one who experience low speaker volume? the volume is way too low compared to my redmi 5a. and the loudspeaker too, I barely hear the person on the other line even when turning the loudspeaker on. i even use different earphones to test the jock but it's still low. please share your feedback. i'm from the Philippines.\", '01 Apr 2019Too many similarly-specced Huawei/Honor phones on the market, not even sure which is best.... moreU can compare on gsmarena', 'Best Phone Ever', 'worst phone ever lag and the camera is no good specially in a low light condition,,, after purchacing this phone for 1 week i sold it because of its phone performance theres a lot of mid range phone that had quite good performance than nova 3i now im using oppo brand f9 and i dont have much complains my complain is f9 does not have much customization thats it but i can say oppo did a good job', 'Place update 9.0 pie', 'Orang Gila, 03 Apr 2019For Honor pick Honor 8x, For Huawei pick Nova 3i, both phone has better build quality, metal body.what u mean? both are huawei', \"Daus aszmi, 05 Apr 2019Why i must not update to Android pie?? do not believe in such nonsense, if you get the original notification for a pie update that's free to go and update\", \"shafiullah2500, 29 Mar 2019Assalamu Alaikum. Dear Nova 3i Users. Please Please don't Update to Pie(Android Version 9) Aft... moreWhy i must not update to Android pie??\", 'dropped this phone from 4ft on a tiles > no cracks or dents what so ever > dropped honor 8x (with protector) on its back > the screen flickered now I need to shipped it to get fixed how sad', 'wich one is the best for buying ? nova 3i & galaxy a7 2018', 'najib1312, 01 Apr 2019Honor 10 Lite, Huawei y9 2019, Honor 8x & Huawei Nova 3iAll these are priced very clos... moreFor Honor pick Honor 8x, For Huawei pick Nova 3i, both phone has better build quality, metal body.', \"shafiullah2500, 29 Mar 2019Assalamu Alaikum. Dear Nova 3i Users. Please Please don't Update to Pie(Android Version 9) Aft... moreYou must format/reset to factory settings your phone after the update and all your problems will be solved.\", 'Too many similarly-specced Huawei/Honor phones on the market, not even sure which is best. Honor 10 lite Huawei Y9 2019 Honor 8X Huawei Nova 3i Honor 10i Huawei Nova 4e All these phones above are running on Kirin 710, has Full HD display and more or less similarly designed. How to choose the best one? Stand-out features among these: - Nova 4e has Type-C - Nova 4e and Honor 10i has triple camera with wide angle lens - Nova 4e and Honor 10i has fast charging - Huawei Y9 has 4,000 mAh battery - Honor 8x has 3,750 mAH battery (rest of them has less than 3,400 mAH) - Huawei Y9 and Honor 10 lite are made of plastic (rest are metal and glass) I wish someone can make a proper comparison on these and rank them.', 'Honor 10 Lite, Huawei y9 2019, Honor 8x & Huawei Nova 3i All these are priced very closed to each other ((RM700 - 800) and very similar specs. How to choose which is best? If i top up another RM200 - 300, can get the Honor Play or the Huawei Nova 4e.', 'Nova3i very bad up heat View 10 very bad very up heat', \"shafiullah2500, 29 Mar 2019Assalamu Alaikum. Dear Nova 3i Users. Please Please don't Update to Pie(Android Version 9) Aft... moreI found the pie update amazing.\", 'Amazing phone. Using it for the last 3 months. Camera great, internal storage, performance amazing. Specially after pie update its performance goes to next level.', \"Assalamu Alaikum. Dear Nova 3i Users. Please Please don't Update to Pie(Android Version 9) After update Facing Troubles 1. Heat up 2.Battery Charging is too Slow 3.Sound Less 4.Battery Discharge too Fast 5.Brightness less. Thank You\", 'Why is my camera is become worst after update to android 9.0 pie?', 'it is the best', 'Is there an available Huawei Nova 3 with only 64GB internal memory in the market as of now?', 'nova 3i is good android??', 'sudi clasher, 24 Mar 2019Where more good.. Huawei nova 3i or Huawei nova 3Of course nova 3', 'Where more good.. Huawei nova 3i or Huawei nova 3', \"dj, 22 Mar 2019I still didn't receive the android pie update Which region ?\", \"I still didn't receive the android pie update\", 'This is a pretty amazing phone..ni specs my whole life can fit into it', 'I like this for its 128GB storage. However, the new Android Pie update comes with default pinkish red wallpaper when you dial or receive calls. I want it the same as my home wallpaper like before. It just irrirating.', \"ikmamun2014, 19 Mar 2019I'm still using oreo but many people already got pirle update.. Why I'm not getting the update... morehi, did you already tried using the HiCare app to upgrade your phone?\", \"ikmamun2014, 19 Mar 2019I'm still using oreo but many people already got pirle update.. Why I'm not getting the update... moreWe didn't get it also in UAE area although Cheapest Nokia devices get it ????\", \"I'm still using oreo but many people already got pirle update.. Why I'm not getting the update? Is there any solution for this?\", \"I changed my iPhone 7 with Nova 3i. Overall, I'm satisfied with the phone. Battery life is good. Don't even charge my phone with powerbank so often unlike my iPhone 7. The camera is just nice. I don't expect something bigger on this Mid Range device. Such a good phone and save some bucks.\", 'Camera is just artificial not like riyality..']\n"
     ]
    }
   ],
   "source": [
    "values = []\n",
    "\n",
    "for review in reviews:\n",
    "    \n",
    "    item = review.text.replace('Anonymous,', '').replace('\\r\\n','').replace('\\n\\n','').replace('\\n','').strip()\n",
    "    values.append(item)\n",
    "        \n",
    "print(values)"
   ]
  },
  {
   "cell_type": "code",
   "execution_count": 151,
   "metadata": {},
   "outputs": [
    {
     "data": {
      "text/plain": [
       "list"
      ]
     },
     "execution_count": 151,
     "metadata": {},
     "output_type": "execute_result"
    }
   ],
   "source": [
    "type(values)"
   ]
  },
  {
   "cell_type": "code",
   "execution_count": 152,
   "metadata": {},
   "outputs": [
    {
     "data": {
      "text/plain": [
       "'Anonymous, 11 May 2019Lx2 can upgrade to emui 9 and android pie, Lx2r still have to wait until they release Mine is lx2 but I dont receive any upadate yet. '"
      ]
     },
     "execution_count": 152,
     "metadata": {},
     "output_type": "execute_result"
    }
   ],
   "source": [
    "first_review.text"
   ]
  },
  {
   "cell_type": "code",
   "execution_count": 153,
   "metadata": {},
   "outputs": [
    {
     "data": {
      "text/plain": [
       "str"
      ]
     },
     "execution_count": 153,
     "metadata": {},
     "output_type": "execute_result"
    }
   ],
   "source": [
    "type(first_review.text)"
   ]
  },
  {
   "cell_type": "code",
   "execution_count": 154,
   "metadata": {},
   "outputs": [
    {
     "data": {
      "text/plain": [
       "'11 may 2019lx2 can upgrade to emui 9 and android pie, lx2r still have to wait until they release mine is lx2 but i dont receive any upadate yet.'"
      ]
     },
     "execution_count": 154,
     "metadata": {},
     "output_type": "execute_result"
    }
   ],
   "source": [
    "first_review.text.lower().replace('anonymous,', '').strip()"
   ]
  },
  {
   "cell_type": "code",
   "execution_count": 155,
   "metadata": {},
   "outputs": [
    {
     "data": {
      "text/plain": [
       "65"
      ]
     },
     "execution_count": 155,
     "metadata": {},
     "output_type": "execute_result"
    }
   ],
   "source": [
    "len(values)"
   ]
  },
  {
   "cell_type": "code",
   "execution_count": 156,
   "metadata": {},
   "outputs": [],
   "source": [
    "#values"
   ]
  },
  {
   "cell_type": "code",
   "execution_count": 157,
   "metadata": {},
   "outputs": [],
   "source": [
    "names = soup.find_all('li', {'class': 'uname2'})"
   ]
  },
  {
   "cell_type": "code",
   "execution_count": 158,
   "metadata": {},
   "outputs": [
    {
     "data": {
      "text/plain": [
       "bs4.element.ResultSet"
      ]
     },
     "execution_count": 158,
     "metadata": {},
     "output_type": "execute_result"
    }
   ],
   "source": [
    "type(names)"
   ]
  },
  {
   "cell_type": "code",
   "execution_count": 159,
   "metadata": {},
   "outputs": [
    {
     "data": {
      "text/plain": [
       "49"
      ]
     },
     "execution_count": 159,
     "metadata": {},
     "output_type": "execute_result"
    }
   ],
   "source": [
    "len(names)"
   ]
  },
  {
   "cell_type": "code",
   "execution_count": 162,
   "metadata": {},
   "outputs": [
    {
     "data": {
      "text/plain": [
       "'Anonymous'"
      ]
     },
     "execution_count": 162,
     "metadata": {},
     "output_type": "execute_result"
    }
   ],
   "source": [
    "names[0].text"
   ]
  },
  {
   "cell_type": "code",
   "execution_count": 163,
   "metadata": {},
   "outputs": [
    {
     "data": {
      "text/plain": [
       "'Anonymous'"
      ]
     },
     "execution_count": 163,
     "metadata": {},
     "output_type": "execute_result"
    }
   ],
   "source": [
    "names[34].text"
   ]
  },
  {
   "cell_type": "code",
   "execution_count": 165,
   "metadata": {},
   "outputs": [
    {
     "data": {
      "text/plain": [
       "'Anonymous'"
      ]
     },
     "execution_count": 165,
     "metadata": {},
     "output_type": "execute_result"
    }
   ],
   "source": [
    "names[23].text"
   ]
  },
  {
   "cell_type": "code",
   "execution_count": 170,
   "metadata": {},
   "outputs": [],
   "source": [
    "name_list = []\n",
    "\n",
    "for name in names:\n",
    "    name_list.append(name.text)"
   ]
  },
  {
   "cell_type": "code",
   "execution_count": 171,
   "metadata": {},
   "outputs": [
    {
     "data": {
      "text/plain": [
       "['Anonymous',\n",
       " 'Russel',\n",
       " 'Russel',\n",
       " 'garryp80',\n",
       " 'Nova user',\n",
       " 'Anonymous',\n",
       " 'sallabi',\n",
       " 'RoY',\n",
       " 'bgree',\n",
       " 'Meedo',\n",
       " 'Dk',\n",
       " 'Anonymous',\n",
       " 'TinSoledad',\n",
       " 'OLDphone',\n",
       " 'Nerp',\n",
       " 'Safras',\n",
       " 'Apol',\n",
       " 'nova user',\n",
       " 'PUK PUK',\n",
       " 'dddd',\n",
       " 'Dk',\n",
       " 'Effy',\n",
       " 'Vhooley',\n",
       " 'Anonymous',\n",
       " 'Anonymous',\n",
       " 'Anonymous',\n",
       " 'khenzo',\n",
       " 'Anonymous',\n",
       " 'atab',\n",
       " 'Daus aszmi',\n",
       " 'KEN',\n",
       " 'pouya',\n",
       " 'Orang Gila',\n",
       " 'Mir',\n",
       " 'Anonymous',\n",
       " 'najib1312',\n",
       " 'Syakir Along',\n",
       " 'Mathew Rad',\n",
       " 'Anonymous',\n",
       " 'yalk',\n",
       " 'Anonymous',\n",
       " 'sudi clasher',\n",
       " 'Anonymous',\n",
       " 'dj',\n",
       " 'aileneraqssharki',\n",
       " 'Anonymous',\n",
       " 'Anonymous',\n",
       " 'Oxygen',\n",
       " 'nova3I']"
      ]
     },
     "execution_count": 171,
     "metadata": {},
     "output_type": "execute_result"
    }
   ],
   "source": [
    "name_list"
   ]
  },
  {
   "cell_type": "code",
   "execution_count": 172,
   "metadata": {},
   "outputs": [
    {
     "data": {
      "text/plain": [
       "49"
      ]
     },
     "execution_count": 172,
     "metadata": {},
     "output_type": "execute_result"
    }
   ],
   "source": [
    "len(name_list)"
   ]
  },
  {
   "cell_type": "code",
   "execution_count": 173,
   "metadata": {},
   "outputs": [],
   "source": [
    "comment_dict = dict(zip(name_list,values))"
   ]
  },
  {
   "cell_type": "code",
   "execution_count": 174,
   "metadata": {},
   "outputs": [
    {
     "data": {
      "text/plain": [
       "{'Anonymous': 'Nova3i very bad up heat View 10 very bad very up heat',\n",
       " 'Russel': 'Nova user, 11 May 2019Automatically call recording option is not available in my nova 3i phone. Please tell me, why ... moreI think it was not allowed in your country.',\n",
       " 'garryp80': 'khenzo, 09 Apr 2019worst phone ever lag and the camera is no good specially in a low light condition,,, after pur... moreNope mine is very smooth. I already try oppo f9 but i dont like it. Huawei is fast in mobile data and wifi. Also very smooth in heavy games',\n",
       " 'Nova user': \"shafiullah2500, 29 Mar 2019Assalamu Alaikum. Dear Nova 3i Users. Please Please don't Update to Pie(Android Version 9) Aft... moreNope. I dont have any troubles in my huawei nova 3i i updated mine 1 week ago. So far so good. No lags. The battery last longer. I can charge 0-100% in just 2 hours. You just dont like the phone so better shut up. Dont believe this guys\",\n",
       " 'sallabi': 'HKM, 08 May 2019Any one know the difference between the version nova 3i INE-LX2 and INE-LX2r ? Apparently thes... moreLx2 can upgrade to emui 9 and android pie, Lx2r still have to wait until they release',\n",
       " 'RoY': 'is that support 250QOM',\n",
       " 'bgree': 'Any one know the difference between the version nova 3i INE-LX2 and INE-LX2r ? Apparently these two versions are sold in malaysian market.',\n",
       " 'Meedo': 'Mohammed Imran, 05 May 2019Hi.Can anyone tell how ong does it take to download 2GB file size of movies.(At 2.4Ghz Wifi Router)depend on your wifi speed',\n",
       " 'Dk': \"I would like to help you with the sound, I do not own this model on Huawei, but I have the Honor 8x with the same characteristics and I would suggest you to try this; 1st, plug in the earphones, then go to the settings and open sounds, then slide down to ''Huawei Sound Effects'', there is a new menu for more sound effects,- auto-3D audio- natural- standard -> Headset type, and Equalizer, i'm shure you will find something that will help you and has lots of fun.\",\n",
       " 'TinSoledad': 'Hi.Can anyone tell how ong does it take to download 2GB file size of movies.(At 2.4Ghz Wifi Router)',\n",
       " 'OLDphone': \"Dk, 23 Apr 2019Has anyone upgraded to pie?If yes, any issues? Yes. There is no problems. It's nice. More fast and smoth Pie better.\",\n",
       " 'Nerp': 'OLDphone, 27 Apr 2019just bought the up a few hours earlier...... a little bit disappointed in the sound department... moreMost of the huawei smartphone has a low volume speaker even the flagship. Only a \"clear sound\" if you want to have a loudspeaker you could get something better than this. Safe extra cash to get a better phone',\n",
       " 'Safras': 'nova user, 25 Apr 2019no so far no issues, the update looks amazingShud I upgrade it?',\n",
       " 'Apol': \"30 Apr 2019Hi Pane. What you're talking about is the Huawei Histen which is completely useless. It may tw... more I just want to help you with some suggestion so if you want more volume to install free app- -NRG Player -and you probably will be more satisfied, greetings\",\n",
       " 'nova user': \"pane, 29 Apr 2019I would like to help you with the sound, I do not own this model on Huawei, but I have the H... moreHi Pane. What you're talking about is the Huawei Histen which is completely useless. It may tweak some bass, treble or balance but it does not, in any way, improve the volume. I hope huawei can fix this with a software update.\",\n",
       " 'PUK PUK': 'JamesA, 22 Apr 2019In Australia, there is a nova 3e available, which has the lesser 64GB internal memory..Nova 3e is actually P20 lite',\n",
       " 'dddd': 'Why my phone cannot connect to wifi?',\n",
       " 'Effy': \"16 Apr 2019am I the only one who experience low speaker volume? the volume is way too low compared to my ... morejust bought the up a few hours earlier...... a little bit disappointed in the sound department... doesn't matter if u use the loudspeaker or headphone... its still low in volume, even st max level.... other than that I got no complaints\",\n",
       " 'Vhooley': \"April's about to end and I'm still stuck at android oreo/ EMUI 8.2. Hope Huawei rolls out the pie update soon :(\",\n",
       " 'khenzo': 'Effy, 23 Apr 2019Should i buy nova 3i or y9(19) or p30 lite?try Cherry Mobile Flare S2 friend',\n",
       " 'atab': 'Has anyone upgraded to pie? If yes, any issues?',\n",
       " 'Daus aszmi': 'Should i buy nova 3i or y9(19) or p30 lite?',\n",
       " 'KEN': '27 Mar 2019Is there an available Huawei Nova 3 with only 64GB internal memory in the market as of now?In Australia, there is a nova 3e available, which has the lesser 64GB internal memory..',\n",
       " 'pouya': 'Is safe to upgrade to pie?',\n",
       " 'Orang Gila': \"am I the only one who experience low speaker volume? the volume is way too low compared to my redmi 5a. and the loudspeaker too, I barely hear the person on the other line even when turning the loudspeaker on. i even use different earphones to test the jock but it's still low. please share your feedback. i'm from the Philippines.\",\n",
       " 'Mir': '01 Apr 2019Too many similarly-specced Huawei/Honor phones on the market, not even sure which is best.... moreU can compare on gsmarena',\n",
       " 'najib1312': 'worst phone ever lag and the camera is no good specially in a low light condition,,, after purchacing this phone for 1 week i sold it because of its phone performance theres a lot of mid range phone that had quite good performance than nova 3i now im using oppo brand f9 and i dont have much complains my complain is f9 does not have much customization thats it but i can say oppo did a good job',\n",
       " 'Syakir Along': 'Place update 9.0 pie',\n",
       " 'Mathew Rad': 'Orang Gila, 03 Apr 2019For Honor pick Honor 8x, For Huawei pick Nova 3i, both phone has better build quality, metal body.what u mean? both are huawei',\n",
       " 'yalk': \"shafiullah2500, 29 Mar 2019Assalamu Alaikum. Dear Nova 3i Users. Please Please don't Update to Pie(Android Version 9) Aft... moreWhy i must not update to Android pie??\",\n",
       " 'sudi clasher': 'wich one is the best for buying ? nova 3i & galaxy a7 2018',\n",
       " 'dj': \"shafiullah2500, 29 Mar 2019Assalamu Alaikum. Dear Nova 3i Users. Please Please don't Update to Pie(Android Version 9) Aft... moreYou must format/reset to factory settings your phone after the update and all your problems will be solved.\",\n",
       " 'aileneraqssharki': 'Too many similarly-specced Huawei/Honor phones on the market, not even sure which is best. Honor 10 lite Huawei Y9 2019 Honor 8X Huawei Nova 3i Honor 10i Huawei Nova 4e All these phones above are running on Kirin 710, has Full HD display and more or less similarly designed. How to choose the best one? Stand-out features among these: - Nova 4e has Type-C - Nova 4e and Honor 10i has triple camera with wide angle lens - Nova 4e and Honor 10i has fast charging - Huawei Y9 has 4,000 mAh battery - Honor 8x has 3,750 mAH battery (rest of them has less than 3,400 mAH) - Huawei Y9 and Honor 10 lite are made of plastic (rest are metal and glass) I wish someone can make a proper comparison on these and rank them.',\n",
       " 'Oxygen': \"shafiullah2500, 29 Mar 2019Assalamu Alaikum. Dear Nova 3i Users. Please Please don't Update to Pie(Android Version 9) Aft... moreI found the pie update amazing.\",\n",
       " 'nova3I': 'Amazing phone. Using it for the last 3 months. Camera great, internal storage, performance amazing. Specially after pie update its performance goes to next level.'}"
      ]
     },
     "execution_count": 174,
     "metadata": {},
     "output_type": "execute_result"
    }
   ],
   "source": [
    "comment_dict"
   ]
  },
  {
   "cell_type": "code",
   "execution_count": 176,
   "metadata": {},
   "outputs": [],
   "source": [
    "import pandas as pd"
   ]
  },
  {
   "cell_type": "code",
   "execution_count": 182,
   "metadata": {},
   "outputs": [],
   "source": [
    "comment_df = pd.DataFrame.from_dict(data = comment_dict, orient = 'index', columns = ['Comments'])"
   ]
  },
  {
   "cell_type": "code",
   "execution_count": 184,
   "metadata": {},
   "outputs": [
    {
     "data": {
      "text/html": [
       "<div>\n",
       "<style scoped>\n",
       "    .dataframe tbody tr th:only-of-type {\n",
       "        vertical-align: middle;\n",
       "    }\n",
       "\n",
       "    .dataframe tbody tr th {\n",
       "        vertical-align: top;\n",
       "    }\n",
       "\n",
       "    .dataframe thead th {\n",
       "        text-align: right;\n",
       "    }\n",
       "</style>\n",
       "<table border=\"1\" class=\"dataframe\">\n",
       "  <thead>\n",
       "    <tr style=\"text-align: right;\">\n",
       "      <th></th>\n",
       "      <th>Comments</th>\n",
       "    </tr>\n",
       "  </thead>\n",
       "  <tbody>\n",
       "    <tr>\n",
       "      <th>Anonymous</th>\n",
       "      <td>Nova3i very bad up heat View 10 very bad very ...</td>\n",
       "    </tr>\n",
       "    <tr>\n",
       "      <th>Russel</th>\n",
       "      <td>Nova user, 11 May 2019Automatically call recor...</td>\n",
       "    </tr>\n",
       "    <tr>\n",
       "      <th>garryp80</th>\n",
       "      <td>khenzo, 09 Apr 2019worst phone ever lag and th...</td>\n",
       "    </tr>\n",
       "    <tr>\n",
       "      <th>Nova user</th>\n",
       "      <td>shafiullah2500, 29 Mar 2019Assalamu Alaikum. D...</td>\n",
       "    </tr>\n",
       "    <tr>\n",
       "      <th>sallabi</th>\n",
       "      <td>HKM, 08 May 2019Any one know the difference be...</td>\n",
       "    </tr>\n",
       "    <tr>\n",
       "      <th>RoY</th>\n",
       "      <td>is that support 250QOM</td>\n",
       "    </tr>\n",
       "    <tr>\n",
       "      <th>bgree</th>\n",
       "      <td>Any one know the difference between the versio...</td>\n",
       "    </tr>\n",
       "    <tr>\n",
       "      <th>Meedo</th>\n",
       "      <td>Mohammed Imran, 05 May 2019Hi.Can anyone tell ...</td>\n",
       "    </tr>\n",
       "    <tr>\n",
       "      <th>Dk</th>\n",
       "      <td>I would like to help you with the sound, I do ...</td>\n",
       "    </tr>\n",
       "    <tr>\n",
       "      <th>TinSoledad</th>\n",
       "      <td>Hi.Can anyone tell how ong does it take to dow...</td>\n",
       "    </tr>\n",
       "    <tr>\n",
       "      <th>OLDphone</th>\n",
       "      <td>Dk, 23 Apr 2019Has anyone upgraded to pie?If y...</td>\n",
       "    </tr>\n",
       "    <tr>\n",
       "      <th>Nerp</th>\n",
       "      <td>OLDphone, 27 Apr 2019just bought the up a few ...</td>\n",
       "    </tr>\n",
       "    <tr>\n",
       "      <th>Safras</th>\n",
       "      <td>nova user, 25 Apr 2019no so far no issues, the...</td>\n",
       "    </tr>\n",
       "    <tr>\n",
       "      <th>Apol</th>\n",
       "      <td>30 Apr 2019Hi Pane. What you're talking about ...</td>\n",
       "    </tr>\n",
       "    <tr>\n",
       "      <th>nova user</th>\n",
       "      <td>pane, 29 Apr 2019I would like to help you with...</td>\n",
       "    </tr>\n",
       "    <tr>\n",
       "      <th>PUK PUK</th>\n",
       "      <td>JamesA, 22 Apr 2019In Australia, there is a no...</td>\n",
       "    </tr>\n",
       "    <tr>\n",
       "      <th>dddd</th>\n",
       "      <td>Why my phone cannot connect to wifi?</td>\n",
       "    </tr>\n",
       "    <tr>\n",
       "      <th>Effy</th>\n",
       "      <td>16 Apr 2019am I the only one who experience lo...</td>\n",
       "    </tr>\n",
       "    <tr>\n",
       "      <th>Vhooley</th>\n",
       "      <td>April's about to end and I'm still stuck at an...</td>\n",
       "    </tr>\n",
       "    <tr>\n",
       "      <th>khenzo</th>\n",
       "      <td>Effy, 23 Apr 2019Should i buy nova 3i or y9(19...</td>\n",
       "    </tr>\n",
       "    <tr>\n",
       "      <th>atab</th>\n",
       "      <td>Has anyone upgraded to pie? If yes, any issues?</td>\n",
       "    </tr>\n",
       "    <tr>\n",
       "      <th>Daus aszmi</th>\n",
       "      <td>Should i buy nova 3i or y9(19) or p30 lite?</td>\n",
       "    </tr>\n",
       "    <tr>\n",
       "      <th>KEN</th>\n",
       "      <td>27 Mar 2019Is there an available Huawei Nova 3...</td>\n",
       "    </tr>\n",
       "    <tr>\n",
       "      <th>pouya</th>\n",
       "      <td>Is safe to upgrade to pie?</td>\n",
       "    </tr>\n",
       "    <tr>\n",
       "      <th>Orang Gila</th>\n",
       "      <td>am I the only one who experience low speaker v...</td>\n",
       "    </tr>\n",
       "    <tr>\n",
       "      <th>Mir</th>\n",
       "      <td>01 Apr 2019Too many similarly-specced Huawei/H...</td>\n",
       "    </tr>\n",
       "    <tr>\n",
       "      <th>najib1312</th>\n",
       "      <td>worst phone ever lag and the camera is no good...</td>\n",
       "    </tr>\n",
       "    <tr>\n",
       "      <th>Syakir Along</th>\n",
       "      <td>Place update 9.0 pie</td>\n",
       "    </tr>\n",
       "    <tr>\n",
       "      <th>Mathew Rad</th>\n",
       "      <td>Orang Gila, 03 Apr 2019For Honor pick Honor 8x...</td>\n",
       "    </tr>\n",
       "    <tr>\n",
       "      <th>yalk</th>\n",
       "      <td>shafiullah2500, 29 Mar 2019Assalamu Alaikum. D...</td>\n",
       "    </tr>\n",
       "    <tr>\n",
       "      <th>sudi clasher</th>\n",
       "      <td>wich one is the best for buying ? nova 3i &amp; ga...</td>\n",
       "    </tr>\n",
       "    <tr>\n",
       "      <th>dj</th>\n",
       "      <td>shafiullah2500, 29 Mar 2019Assalamu Alaikum. D...</td>\n",
       "    </tr>\n",
       "    <tr>\n",
       "      <th>aileneraqssharki</th>\n",
       "      <td>Too many similarly-specced Huawei/Honor phones...</td>\n",
       "    </tr>\n",
       "    <tr>\n",
       "      <th>Oxygen</th>\n",
       "      <td>shafiullah2500, 29 Mar 2019Assalamu Alaikum. D...</td>\n",
       "    </tr>\n",
       "    <tr>\n",
       "      <th>nova3I</th>\n",
       "      <td>Amazing phone. Using it for the last 3 months....</td>\n",
       "    </tr>\n",
       "  </tbody>\n",
       "</table>\n",
       "</div>"
      ],
      "text/plain": [
       "                                                           Comments\n",
       "Anonymous         Nova3i very bad up heat View 10 very bad very ...\n",
       "Russel            Nova user, 11 May 2019Automatically call recor...\n",
       "garryp80          khenzo, 09 Apr 2019worst phone ever lag and th...\n",
       "Nova user         shafiullah2500, 29 Mar 2019Assalamu Alaikum. D...\n",
       "sallabi           HKM, 08 May 2019Any one know the difference be...\n",
       "RoY                                          is that support 250QOM\n",
       "bgree             Any one know the difference between the versio...\n",
       "Meedo             Mohammed Imran, 05 May 2019Hi.Can anyone tell ...\n",
       "Dk                I would like to help you with the sound, I do ...\n",
       "TinSoledad        Hi.Can anyone tell how ong does it take to dow...\n",
       "OLDphone          Dk, 23 Apr 2019Has anyone upgraded to pie?If y...\n",
       "Nerp              OLDphone, 27 Apr 2019just bought the up a few ...\n",
       "Safras            nova user, 25 Apr 2019no so far no issues, the...\n",
       "Apol              30 Apr 2019Hi Pane. What you're talking about ...\n",
       "nova user         pane, 29 Apr 2019I would like to help you with...\n",
       "PUK PUK           JamesA, 22 Apr 2019In Australia, there is a no...\n",
       "dddd                           Why my phone cannot connect to wifi?\n",
       "Effy              16 Apr 2019am I the only one who experience lo...\n",
       "Vhooley           April's about to end and I'm still stuck at an...\n",
       "khenzo            Effy, 23 Apr 2019Should i buy nova 3i or y9(19...\n",
       "atab                Has anyone upgraded to pie? If yes, any issues?\n",
       "Daus aszmi              Should i buy nova 3i or y9(19) or p30 lite?\n",
       "KEN               27 Mar 2019Is there an available Huawei Nova 3...\n",
       "pouya                                    Is safe to upgrade to pie?\n",
       "Orang Gila        am I the only one who experience low speaker v...\n",
       "Mir               01 Apr 2019Too many similarly-specced Huawei/H...\n",
       "najib1312         worst phone ever lag and the camera is no good...\n",
       "Syakir Along                                   Place update 9.0 pie\n",
       "Mathew Rad        Orang Gila, 03 Apr 2019For Honor pick Honor 8x...\n",
       "yalk              shafiullah2500, 29 Mar 2019Assalamu Alaikum. D...\n",
       "sudi clasher      wich one is the best for buying ? nova 3i & ga...\n",
       "dj                shafiullah2500, 29 Mar 2019Assalamu Alaikum. D...\n",
       "aileneraqssharki  Too many similarly-specced Huawei/Honor phones...\n",
       "Oxygen            shafiullah2500, 29 Mar 2019Assalamu Alaikum. D...\n",
       "nova3I            Amazing phone. Using it for the last 3 months...."
      ]
     },
     "execution_count": 184,
     "metadata": {},
     "output_type": "execute_result"
    }
   ],
   "source": [
    "comment_df"
   ]
  },
  {
   "cell_type": "code",
   "execution_count": null,
   "metadata": {},
   "outputs": [],
   "source": []
  },
  {
   "cell_type": "code",
   "execution_count": null,
   "metadata": {},
   "outputs": [],
   "source": []
  },
  {
   "cell_type": "code",
   "execution_count": null,
   "metadata": {},
   "outputs": [],
   "source": []
  },
  {
   "cell_type": "code",
   "execution_count": null,
   "metadata": {},
   "outputs": [],
   "source": []
  }
 ],
 "metadata": {
  "kernelspec": {
   "display_name": "Python 3",
   "language": "python",
   "name": "python3"
  },
  "language_info": {
   "codemirror_mode": {
    "name": "ipython",
    "version": 3
   },
   "file_extension": ".py",
   "mimetype": "text/x-python",
   "name": "python",
   "nbconvert_exporter": "python",
   "pygments_lexer": "ipython3",
   "version": "3.7.3"
  }
 },
 "nbformat": 4,
 "nbformat_minor": 2
}
